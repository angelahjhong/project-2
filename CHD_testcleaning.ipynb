{
  "nbformat": 4,
  "nbformat_minor": 0,
  "metadata": {
    "colab": {
      "provenance": [],
      "authorship_tag": "ABX9TyNDGbG3Lqlif76lqDPeypSV",
      "include_colab_link": true
    },
    "kernelspec": {
      "name": "python3",
      "display_name": "Python 3"
    },
    "language_info": {
      "name": "python"
    }
  },
  "cells": [
    {
      "cell_type": "markdown",
      "metadata": {
        "id": "view-in-github",
        "colab_type": "text"
      },
      "source": [
        "<a href=\"https://colab.research.google.com/github/angelahjhong/project-2/blob/main/CHD_testcleaning.ipynb\" target=\"_parent\"><img src=\"https://colab.research.google.com/assets/colab-badge.svg\" alt=\"Open In Colab\"/></a>"
      ]
    },
    {
      "cell_type": "code",
      "execution_count": 1,
      "metadata": {
        "id": "-QyKKA1jogSL"
      },
      "outputs": [],
      "source": [
        "import pandas as pd\n",
        "import numpy as np"
      ]
    },
    {
      "cell_type": "code",
      "source": [
        "df = pd.read_csv('/content/fhs_test.csv')\n",
        "df.head()"
      ],
      "metadata": {
        "colab": {
          "base_uri": "https://localhost:8080/",
          "height": 243
        },
        "id": "fAVmd2i0prTV",
        "outputId": "3d8dd527-1bc0-4561-feed-78273935f126"
      },
      "execution_count": 3,
      "outputs": [
        {
          "output_type": "execute_result",
          "data": {
            "text/plain": [
              "   Unnamed: 0  sex  age  education  currentSmoker  cigsPerDay  BPMeds  \\\n",
              "0         674    0   58        1.0              1        20.0     0.0   \n",
              "1        4070    0   51        3.0              0         0.0     0.0   \n",
              "2        3150    0   44        2.0              1         9.0     0.0   \n",
              "3        1695    0   40        2.0              1        20.0     0.0   \n",
              "4        2692    1   58        2.0              1        20.0     0.0   \n",
              "\n",
              "   prevalentStroke  prevalentHyp  diabetes  totChol  sysBP  diaBP    BMI  \\\n",
              "0                0             0         0      NaN  126.0   77.0  30.08   \n",
              "1                0             0         0    264.0  135.0   83.0  26.68   \n",
              "2                0             1         0      NaN  147.5   96.0  30.57   \n",
              "3                0             0         0    271.0  138.5   88.0  27.24   \n",
              "4                0             0         0    207.0  110.0   80.0  23.55   \n",
              "\n",
              "   heartRate  glucose  TenYearCHD  \n",
              "0       78.0      NaN           0  \n",
              "1       60.0     74.0           0  \n",
              "2       78.0      NaN           1  \n",
              "3       80.0      NaN           1  \n",
              "4       78.0     78.0           0  "
            ],
            "text/html": [
              "\n",
              "  <div id=\"df-b8ef6186-3cd8-43d0-a82c-fe5982a8f0f1\" class=\"colab-df-container\">\n",
              "    <div>\n",
              "<style scoped>\n",
              "    .dataframe tbody tr th:only-of-type {\n",
              "        vertical-align: middle;\n",
              "    }\n",
              "\n",
              "    .dataframe tbody tr th {\n",
              "        vertical-align: top;\n",
              "    }\n",
              "\n",
              "    .dataframe thead th {\n",
              "        text-align: right;\n",
              "    }\n",
              "</style>\n",
              "<table border=\"1\" class=\"dataframe\">\n",
              "  <thead>\n",
              "    <tr style=\"text-align: right;\">\n",
              "      <th></th>\n",
              "      <th>Unnamed: 0</th>\n",
              "      <th>sex</th>\n",
              "      <th>age</th>\n",
              "      <th>education</th>\n",
              "      <th>currentSmoker</th>\n",
              "      <th>cigsPerDay</th>\n",
              "      <th>BPMeds</th>\n",
              "      <th>prevalentStroke</th>\n",
              "      <th>prevalentHyp</th>\n",
              "      <th>diabetes</th>\n",
              "      <th>totChol</th>\n",
              "      <th>sysBP</th>\n",
              "      <th>diaBP</th>\n",
              "      <th>BMI</th>\n",
              "      <th>heartRate</th>\n",
              "      <th>glucose</th>\n",
              "      <th>TenYearCHD</th>\n",
              "    </tr>\n",
              "  </thead>\n",
              "  <tbody>\n",
              "    <tr>\n",
              "      <th>0</th>\n",
              "      <td>674</td>\n",
              "      <td>0</td>\n",
              "      <td>58</td>\n",
              "      <td>1.0</td>\n",
              "      <td>1</td>\n",
              "      <td>20.0</td>\n",
              "      <td>0.0</td>\n",
              "      <td>0</td>\n",
              "      <td>0</td>\n",
              "      <td>0</td>\n",
              "      <td>NaN</td>\n",
              "      <td>126.0</td>\n",
              "      <td>77.0</td>\n",
              "      <td>30.08</td>\n",
              "      <td>78.0</td>\n",
              "      <td>NaN</td>\n",
              "      <td>0</td>\n",
              "    </tr>\n",
              "    <tr>\n",
              "      <th>1</th>\n",
              "      <td>4070</td>\n",
              "      <td>0</td>\n",
              "      <td>51</td>\n",
              "      <td>3.0</td>\n",
              "      <td>0</td>\n",
              "      <td>0.0</td>\n",
              "      <td>0.0</td>\n",
              "      <td>0</td>\n",
              "      <td>0</td>\n",
              "      <td>0</td>\n",
              "      <td>264.0</td>\n",
              "      <td>135.0</td>\n",
              "      <td>83.0</td>\n",
              "      <td>26.68</td>\n",
              "      <td>60.0</td>\n",
              "      <td>74.0</td>\n",
              "      <td>0</td>\n",
              "    </tr>\n",
              "    <tr>\n",
              "      <th>2</th>\n",
              "      <td>3150</td>\n",
              "      <td>0</td>\n",
              "      <td>44</td>\n",
              "      <td>2.0</td>\n",
              "      <td>1</td>\n",
              "      <td>9.0</td>\n",
              "      <td>0.0</td>\n",
              "      <td>0</td>\n",
              "      <td>1</td>\n",
              "      <td>0</td>\n",
              "      <td>NaN</td>\n",
              "      <td>147.5</td>\n",
              "      <td>96.0</td>\n",
              "      <td>30.57</td>\n",
              "      <td>78.0</td>\n",
              "      <td>NaN</td>\n",
              "      <td>1</td>\n",
              "    </tr>\n",
              "    <tr>\n",
              "      <th>3</th>\n",
              "      <td>1695</td>\n",
              "      <td>0</td>\n",
              "      <td>40</td>\n",
              "      <td>2.0</td>\n",
              "      <td>1</td>\n",
              "      <td>20.0</td>\n",
              "      <td>0.0</td>\n",
              "      <td>0</td>\n",
              "      <td>0</td>\n",
              "      <td>0</td>\n",
              "      <td>271.0</td>\n",
              "      <td>138.5</td>\n",
              "      <td>88.0</td>\n",
              "      <td>27.24</td>\n",
              "      <td>80.0</td>\n",
              "      <td>NaN</td>\n",
              "      <td>1</td>\n",
              "    </tr>\n",
              "    <tr>\n",
              "      <th>4</th>\n",
              "      <td>2692</td>\n",
              "      <td>1</td>\n",
              "      <td>58</td>\n",
              "      <td>2.0</td>\n",
              "      <td>1</td>\n",
              "      <td>20.0</td>\n",
              "      <td>0.0</td>\n",
              "      <td>0</td>\n",
              "      <td>0</td>\n",
              "      <td>0</td>\n",
              "      <td>207.0</td>\n",
              "      <td>110.0</td>\n",
              "      <td>80.0</td>\n",
              "      <td>23.55</td>\n",
              "      <td>78.0</td>\n",
              "      <td>78.0</td>\n",
              "      <td>0</td>\n",
              "    </tr>\n",
              "  </tbody>\n",
              "</table>\n",
              "</div>\n",
              "    <div class=\"colab-df-buttons\">\n",
              "\n",
              "  <div class=\"colab-df-container\">\n",
              "    <button class=\"colab-df-convert\" onclick=\"convertToInteractive('df-b8ef6186-3cd8-43d0-a82c-fe5982a8f0f1')\"\n",
              "            title=\"Convert this dataframe to an interactive table.\"\n",
              "            style=\"display:none;\">\n",
              "\n",
              "  <svg xmlns=\"http://www.w3.org/2000/svg\" height=\"24px\" viewBox=\"0 -960 960 960\">\n",
              "    <path d=\"M120-120v-720h720v720H120Zm60-500h600v-160H180v160Zm220 220h160v-160H400v160Zm0 220h160v-160H400v160ZM180-400h160v-160H180v160Zm440 0h160v-160H620v160ZM180-180h160v-160H180v160Zm440 0h160v-160H620v160Z\"/>\n",
              "  </svg>\n",
              "    </button>\n",
              "\n",
              "  <style>\n",
              "    .colab-df-container {\n",
              "      display:flex;\n",
              "      gap: 12px;\n",
              "    }\n",
              "\n",
              "    .colab-df-convert {\n",
              "      background-color: #E8F0FE;\n",
              "      border: none;\n",
              "      border-radius: 50%;\n",
              "      cursor: pointer;\n",
              "      display: none;\n",
              "      fill: #1967D2;\n",
              "      height: 32px;\n",
              "      padding: 0 0 0 0;\n",
              "      width: 32px;\n",
              "    }\n",
              "\n",
              "    .colab-df-convert:hover {\n",
              "      background-color: #E2EBFA;\n",
              "      box-shadow: 0px 1px 2px rgba(60, 64, 67, 0.3), 0px 1px 3px 1px rgba(60, 64, 67, 0.15);\n",
              "      fill: #174EA6;\n",
              "    }\n",
              "\n",
              "    .colab-df-buttons div {\n",
              "      margin-bottom: 4px;\n",
              "    }\n",
              "\n",
              "    [theme=dark] .colab-df-convert {\n",
              "      background-color: #3B4455;\n",
              "      fill: #D2E3FC;\n",
              "    }\n",
              "\n",
              "    [theme=dark] .colab-df-convert:hover {\n",
              "      background-color: #434B5C;\n",
              "      box-shadow: 0px 1px 3px 1px rgba(0, 0, 0, 0.15);\n",
              "      filter: drop-shadow(0px 1px 2px rgba(0, 0, 0, 0.3));\n",
              "      fill: #FFFFFF;\n",
              "    }\n",
              "  </style>\n",
              "\n",
              "    <script>\n",
              "      const buttonEl =\n",
              "        document.querySelector('#df-b8ef6186-3cd8-43d0-a82c-fe5982a8f0f1 button.colab-df-convert');\n",
              "      buttonEl.style.display =\n",
              "        google.colab.kernel.accessAllowed ? 'block' : 'none';\n",
              "\n",
              "      async function convertToInteractive(key) {\n",
              "        const element = document.querySelector('#df-b8ef6186-3cd8-43d0-a82c-fe5982a8f0f1');\n",
              "        const dataTable =\n",
              "          await google.colab.kernel.invokeFunction('convertToInteractive',\n",
              "                                                    [key], {});\n",
              "        if (!dataTable) return;\n",
              "\n",
              "        const docLinkHtml = 'Like what you see? Visit the ' +\n",
              "          '<a target=\"_blank\" href=https://colab.research.google.com/notebooks/data_table.ipynb>data table notebook</a>'\n",
              "          + ' to learn more about interactive tables.';\n",
              "        element.innerHTML = '';\n",
              "        dataTable['output_type'] = 'display_data';\n",
              "        await google.colab.output.renderOutput(dataTable, element);\n",
              "        const docLink = document.createElement('div');\n",
              "        docLink.innerHTML = docLinkHtml;\n",
              "        element.appendChild(docLink);\n",
              "      }\n",
              "    </script>\n",
              "  </div>\n",
              "\n",
              "\n",
              "<div id=\"df-adc73e04-00e9-4ce8-92a8-43e97fc68b69\">\n",
              "  <button class=\"colab-df-quickchart\" onclick=\"quickchart('df-adc73e04-00e9-4ce8-92a8-43e97fc68b69')\"\n",
              "            title=\"Suggest charts\"\n",
              "            style=\"display:none;\">\n",
              "\n",
              "<svg xmlns=\"http://www.w3.org/2000/svg\" height=\"24px\"viewBox=\"0 0 24 24\"\n",
              "     width=\"24px\">\n",
              "    <g>\n",
              "        <path d=\"M19 3H5c-1.1 0-2 .9-2 2v14c0 1.1.9 2 2 2h14c1.1 0 2-.9 2-2V5c0-1.1-.9-2-2-2zM9 17H7v-7h2v7zm4 0h-2V7h2v10zm4 0h-2v-4h2v4z\"/>\n",
              "    </g>\n",
              "</svg>\n",
              "  </button>\n",
              "\n",
              "<style>\n",
              "  .colab-df-quickchart {\n",
              "      --bg-color: #E8F0FE;\n",
              "      --fill-color: #1967D2;\n",
              "      --hover-bg-color: #E2EBFA;\n",
              "      --hover-fill-color: #174EA6;\n",
              "      --disabled-fill-color: #AAA;\n",
              "      --disabled-bg-color: #DDD;\n",
              "  }\n",
              "\n",
              "  [theme=dark] .colab-df-quickchart {\n",
              "      --bg-color: #3B4455;\n",
              "      --fill-color: #D2E3FC;\n",
              "      --hover-bg-color: #434B5C;\n",
              "      --hover-fill-color: #FFFFFF;\n",
              "      --disabled-bg-color: #3B4455;\n",
              "      --disabled-fill-color: #666;\n",
              "  }\n",
              "\n",
              "  .colab-df-quickchart {\n",
              "    background-color: var(--bg-color);\n",
              "    border: none;\n",
              "    border-radius: 50%;\n",
              "    cursor: pointer;\n",
              "    display: none;\n",
              "    fill: var(--fill-color);\n",
              "    height: 32px;\n",
              "    padding: 0;\n",
              "    width: 32px;\n",
              "  }\n",
              "\n",
              "  .colab-df-quickchart:hover {\n",
              "    background-color: var(--hover-bg-color);\n",
              "    box-shadow: 0 1px 2px rgba(60, 64, 67, 0.3), 0 1px 3px 1px rgba(60, 64, 67, 0.15);\n",
              "    fill: var(--button-hover-fill-color);\n",
              "  }\n",
              "\n",
              "  .colab-df-quickchart-complete:disabled,\n",
              "  .colab-df-quickchart-complete:disabled:hover {\n",
              "    background-color: var(--disabled-bg-color);\n",
              "    fill: var(--disabled-fill-color);\n",
              "    box-shadow: none;\n",
              "  }\n",
              "\n",
              "  .colab-df-spinner {\n",
              "    border: 2px solid var(--fill-color);\n",
              "    border-color: transparent;\n",
              "    border-bottom-color: var(--fill-color);\n",
              "    animation:\n",
              "      spin 1s steps(1) infinite;\n",
              "  }\n",
              "\n",
              "  @keyframes spin {\n",
              "    0% {\n",
              "      border-color: transparent;\n",
              "      border-bottom-color: var(--fill-color);\n",
              "      border-left-color: var(--fill-color);\n",
              "    }\n",
              "    20% {\n",
              "      border-color: transparent;\n",
              "      border-left-color: var(--fill-color);\n",
              "      border-top-color: var(--fill-color);\n",
              "    }\n",
              "    30% {\n",
              "      border-color: transparent;\n",
              "      border-left-color: var(--fill-color);\n",
              "      border-top-color: var(--fill-color);\n",
              "      border-right-color: var(--fill-color);\n",
              "    }\n",
              "    40% {\n",
              "      border-color: transparent;\n",
              "      border-right-color: var(--fill-color);\n",
              "      border-top-color: var(--fill-color);\n",
              "    }\n",
              "    60% {\n",
              "      border-color: transparent;\n",
              "      border-right-color: var(--fill-color);\n",
              "    }\n",
              "    80% {\n",
              "      border-color: transparent;\n",
              "      border-right-color: var(--fill-color);\n",
              "      border-bottom-color: var(--fill-color);\n",
              "    }\n",
              "    90% {\n",
              "      border-color: transparent;\n",
              "      border-bottom-color: var(--fill-color);\n",
              "    }\n",
              "  }\n",
              "</style>\n",
              "\n",
              "  <script>\n",
              "    async function quickchart(key) {\n",
              "      const quickchartButtonEl =\n",
              "        document.querySelector('#' + key + ' button');\n",
              "      quickchartButtonEl.disabled = true;  // To prevent multiple clicks.\n",
              "      quickchartButtonEl.classList.add('colab-df-spinner');\n",
              "      try {\n",
              "        const charts = await google.colab.kernel.invokeFunction(\n",
              "            'suggestCharts', [key], {});\n",
              "      } catch (error) {\n",
              "        console.error('Error during call to suggestCharts:', error);\n",
              "      }\n",
              "      quickchartButtonEl.classList.remove('colab-df-spinner');\n",
              "      quickchartButtonEl.classList.add('colab-df-quickchart-complete');\n",
              "    }\n",
              "    (() => {\n",
              "      let quickchartButtonEl =\n",
              "        document.querySelector('#df-adc73e04-00e9-4ce8-92a8-43e97fc68b69 button');\n",
              "      quickchartButtonEl.style.display =\n",
              "        google.colab.kernel.accessAllowed ? 'block' : 'none';\n",
              "    })();\n",
              "  </script>\n",
              "</div>\n",
              "    </div>\n",
              "  </div>\n"
            ],
            "application/vnd.google.colaboratory.intrinsic+json": {
              "type": "dataframe",
              "variable_name": "df",
              "summary": "{\n  \"name\": \"df\",\n  \"rows\": 1060,\n  \"fields\": [\n    {\n      \"column\": \"Unnamed: 0\",\n      \"properties\": {\n        \"dtype\": \"number\",\n        \"std\": 1201,\n        \"min\": 4,\n        \"max\": 4235,\n        \"num_unique_values\": 1060,\n        \"samples\": [\n          2821,\n          4008,\n          3085\n        ],\n        \"semantic_type\": \"\",\n        \"description\": \"\"\n      }\n    },\n    {\n      \"column\": \"sex\",\n      \"properties\": {\n        \"dtype\": \"number\",\n        \"std\": 0,\n        \"min\": 0,\n        \"max\": 1,\n        \"num_unique_values\": 2,\n        \"samples\": [\n          1,\n          0\n        ],\n        \"semantic_type\": \"\",\n        \"description\": \"\"\n      }\n    },\n    {\n      \"column\": \"age\",\n      \"properties\": {\n        \"dtype\": \"number\",\n        \"std\": 8,\n        \"min\": 34,\n        \"max\": 69,\n        \"num_unique_values\": 36,\n        \"samples\": [\n          69,\n          47\n        ],\n        \"semantic_type\": \"\",\n        \"description\": \"\"\n      }\n    },\n    {\n      \"column\": \"education\",\n      \"properties\": {\n        \"dtype\": \"number\",\n        \"std\": 1.042773664643174,\n        \"min\": 1.0,\n        \"max\": 4.0,\n        \"num_unique_values\": 4,\n        \"samples\": [\n          3.0,\n          4.0\n        ],\n        \"semantic_type\": \"\",\n        \"description\": \"\"\n      }\n    },\n    {\n      \"column\": \"currentSmoker\",\n      \"properties\": {\n        \"dtype\": \"number\",\n        \"std\": 0,\n        \"min\": 0,\n        \"max\": 1,\n        \"num_unique_values\": 2,\n        \"samples\": [\n          0,\n          1\n        ],\n        \"semantic_type\": \"\",\n        \"description\": \"\"\n      }\n    },\n    {\n      \"column\": \"cigsPerDay\",\n      \"properties\": {\n        \"dtype\": \"number\",\n        \"std\": 11.650215278273134,\n        \"min\": 0.0,\n        \"max\": 60.0,\n        \"num_unique_values\": 27,\n        \"samples\": [\n          1.0,\n          43.0\n        ],\n        \"semantic_type\": \"\",\n        \"description\": \"\"\n      }\n    },\n    {\n      \"column\": \"BPMeds\",\n      \"properties\": {\n        \"dtype\": \"number\",\n        \"std\": 0.169821692953555,\n        \"min\": 0.0,\n        \"max\": 1.0,\n        \"num_unique_values\": 2,\n        \"samples\": [\n          1.0,\n          0.0\n        ],\n        \"semantic_type\": \"\",\n        \"description\": \"\"\n      }\n    },\n    {\n      \"column\": \"prevalentStroke\",\n      \"properties\": {\n        \"dtype\": \"number\",\n        \"std\": 0,\n        \"min\": 0,\n        \"max\": 1,\n        \"num_unique_values\": 2,\n        \"samples\": [\n          1,\n          0\n        ],\n        \"semantic_type\": \"\",\n        \"description\": \"\"\n      }\n    },\n    {\n      \"column\": \"prevalentHyp\",\n      \"properties\": {\n        \"dtype\": \"number\",\n        \"std\": 0,\n        \"min\": 0,\n        \"max\": 1,\n        \"num_unique_values\": 2,\n        \"samples\": [\n          1,\n          0\n        ],\n        \"semantic_type\": \"\",\n        \"description\": \"\"\n      }\n    },\n    {\n      \"column\": \"diabetes\",\n      \"properties\": {\n        \"dtype\": \"number\",\n        \"std\": 0,\n        \"min\": 0,\n        \"max\": 1,\n        \"num_unique_values\": 2,\n        \"samples\": [\n          1,\n          0\n        ],\n        \"semantic_type\": \"\",\n        \"description\": \"\"\n      }\n    },\n    {\n      \"column\": \"totChol\",\n      \"properties\": {\n        \"dtype\": \"number\",\n        \"std\": 43.83523296407875,\n        \"min\": 124.0,\n        \"max\": 453.0,\n        \"num_unique_values\": 196,\n        \"samples\": [\n          135.0,\n          195.0\n        ],\n        \"semantic_type\": \"\",\n        \"description\": \"\"\n      }\n    },\n    {\n      \"column\": \"sysBP\",\n      \"properties\": {\n        \"dtype\": \"number\",\n        \"std\": 20.74399096663064,\n        \"min\": 92.5,\n        \"max\": 215.0,\n        \"num_unique_values\": 167,\n        \"samples\": [\n          166.0,\n          124.5\n        ],\n        \"semantic_type\": \"\",\n        \"description\": \"\"\n      }\n    },\n    {\n      \"column\": \"diaBP\",\n      \"properties\": {\n        \"dtype\": \"number\",\n        \"std\": 11.58941470102808,\n        \"min\": 48.0,\n        \"max\": 140.0,\n        \"num_unique_values\": 117,\n        \"samples\": [\n          66.5,\n          80.0\n        ],\n        \"semantic_type\": \"\",\n        \"description\": \"\"\n      }\n    },\n    {\n      \"column\": \"BMI\",\n      \"properties\": {\n        \"dtype\": \"number\",\n        \"std\": 3.914417613932532,\n        \"min\": 15.96,\n        \"max\": 45.79,\n        \"num_unique_values\": 666,\n        \"samples\": [\n          24.9,\n          24.8\n        ],\n        \"semantic_type\": \"\",\n        \"description\": \"\"\n      }\n    },\n    {\n      \"column\": \"heartRate\",\n      \"properties\": {\n        \"dtype\": \"number\",\n        \"std\": 11.95315325767632,\n        \"min\": 45.0,\n        \"max\": 143.0,\n        \"num_unique_values\": 60,\n        \"samples\": [\n          78.0,\n          70.0\n        ],\n        \"semantic_type\": \"\",\n        \"description\": \"\"\n      }\n    },\n    {\n      \"column\": \"glucose\",\n      \"properties\": {\n        \"dtype\": \"number\",\n        \"std\": 24.931659322505936,\n        \"min\": 44.0,\n        \"max\": 394.0,\n        \"num_unique_values\": 90,\n        \"samples\": [\n          177.0,\n          143.0\n        ],\n        \"semantic_type\": \"\",\n        \"description\": \"\"\n      }\n    },\n    {\n      \"column\": \"TenYearCHD\",\n      \"properties\": {\n        \"dtype\": \"number\",\n        \"std\": 0,\n        \"min\": 0,\n        \"max\": 1,\n        \"num_unique_values\": 2,\n        \"samples\": [\n          1,\n          0\n        ],\n        \"semantic_type\": \"\",\n        \"description\": \"\"\n      }\n    }\n  ]\n}"
            }
          },
          "metadata": {},
          "execution_count": 3
        }
      ]
    },
    {
      "cell_type": "code",
      "source": [
        "df.columns"
      ],
      "metadata": {
        "colab": {
          "base_uri": "https://localhost:8080/"
        },
        "id": "tVBovpZ0q45G",
        "outputId": "afbf60d8-49ad-4621-adcd-10d6532acd72"
      },
      "execution_count": 4,
      "outputs": [
        {
          "output_type": "execute_result",
          "data": {
            "text/plain": [
              "Index(['Unnamed: 0', 'sex', 'age', 'education', 'currentSmoker', 'cigsPerDay',\n",
              "       'BPMeds', 'prevalentStroke', 'prevalentHyp', 'diabetes', 'totChol',\n",
              "       'sysBP', 'diaBP', 'BMI', 'heartRate', 'glucose', 'TenYearCHD'],\n",
              "      dtype='object')"
            ]
          },
          "metadata": {},
          "execution_count": 4
        }
      ]
    },
    {
      "cell_type": "code",
      "source": [
        "df.shape"
      ],
      "metadata": {
        "colab": {
          "base_uri": "https://localhost:8080/"
        },
        "id": "L0sWBOh2q6K6",
        "outputId": "951e070e-e526-46f4-fade-abacbdeb1ba9"
      },
      "execution_count": 5,
      "outputs": [
        {
          "output_type": "execute_result",
          "data": {
            "text/plain": [
              "(1060, 17)"
            ]
          },
          "metadata": {},
          "execution_count": 5
        }
      ]
    },
    {
      "cell_type": "code",
      "source": [
        "# sex variable does not need cleaning (0=female, 1=male)\n",
        "df['sex'].value_counts()"
      ],
      "metadata": {
        "colab": {
          "base_uri": "https://localhost:8080/"
        },
        "id": "FHty4DFdrAz2",
        "outputId": "ecb8aafc-0a30-4b70-82fa-7837a3d0cecb"
      },
      "execution_count": 7,
      "outputs": [
        {
          "output_type": "execute_result",
          "data": {
            "text/plain": [
              "sex\n",
              "0    617\n",
              "1    443\n",
              "Name: count, dtype: int64"
            ]
          },
          "metadata": {},
          "execution_count": 7
        }
      ]
    },
    {
      "cell_type": "code",
      "source": [
        "# age variable does not need cleaning\n",
        "df['age'].unique()"
      ],
      "metadata": {
        "colab": {
          "base_uri": "https://localhost:8080/"
        },
        "id": "7Bxa4oB1r2uI",
        "outputId": "7fa40abc-2b51-4fc4-f46c-3084371f4130"
      },
      "execution_count": 10,
      "outputs": [
        {
          "output_type": "execute_result",
          "data": {
            "text/plain": [
              "array([58, 51, 44, 40, 53, 41, 50, 42, 45, 52, 57, 46, 38, 47, 48, 56, 66,\n",
              "       68, 59, 54, 49, 39, 61, 62, 67, 43, 64, 37, 34, 35, 55, 36, 63, 65,\n",
              "       60, 69])"
            ]
          },
          "metadata": {},
          "execution_count": 10
        }
      ]
    },
    {
      "cell_type": "code",
      "source": [
        "# currentSmoker does not need cleaning (0=not smoking, 1=smoking)\n",
        "df['currentSmoker'].value_counts()"
      ],
      "metadata": {
        "colab": {
          "base_uri": "https://localhost:8080/"
        },
        "id": "mcrE5e2GsWp9",
        "outputId": "984259a6-cd9e-42f2-be57-5153a08eb2e9"
      },
      "execution_count": 13,
      "outputs": [
        {
          "output_type": "execute_result",
          "data": {
            "text/plain": [
              "currentSmoker\n",
              "1    534\n",
              "0    526\n",
              "Name: count, dtype: int64"
            ]
          },
          "metadata": {},
          "execution_count": 13
        }
      ]
    },
    {
      "cell_type": "code",
      "source": [
        "# cigsPerDay needs to remove nan from the data\n",
        "df['cigsPerDay'].unique()"
      ],
      "metadata": {
        "colab": {
          "base_uri": "https://localhost:8080/"
        },
        "id": "gu9usS5usonO",
        "outputId": "e8bb96d3-4de5-4987-9330-d334c520a306"
      },
      "execution_count": 15,
      "outputs": [
        {
          "output_type": "execute_result",
          "data": {
            "text/plain": [
              "array([20.,  0.,  9.,  5., 35., 30., 10., 40.,  1., 15.,  3., 45., 25.,\n",
              "       43., 17., 23., 13., 18., 50.,  4.,  2.,  6., nan, 60.,  8., 12.,\n",
              "        7., 14.])"
            ]
          },
          "metadata": {},
          "execution_count": 15
        }
      ]
    },
    {
      "cell_type": "code",
      "source": [
        "# there are 5 nan values\n",
        "nan_cigs = df['cigsPerDay'].isna().sum()\n",
        "print(nan_cigs)"
      ],
      "metadata": {
        "colab": {
          "base_uri": "https://localhost:8080/"
        },
        "id": "M-a3jnYjtjV8",
        "outputId": "d0083b14-f040-4d06-94d5-cee27f61f6f2"
      },
      "execution_count": 18,
      "outputs": [
        {
          "output_type": "stream",
          "name": "stdout",
          "text": [
            "5\n"
          ]
        }
      ]
    },
    {
      "cell_type": "code",
      "source": [
        "# the median number of cigs per day is 1\n",
        "median_cigs = df['cigsPerDay'].median()\n",
        "print(median_cigs)"
      ],
      "metadata": {
        "colab": {
          "base_uri": "https://localhost:8080/"
        },
        "id": "HY5DKkqEt0o7",
        "outputId": "3f4f312f-f351-4c4b-9e45-6b8deb6fd7b4"
      },
      "execution_count": 19,
      "outputs": [
        {
          "output_type": "stream",
          "name": "stdout",
          "text": [
            "1.0\n"
          ]
        }
      ]
    },
    {
      "cell_type": "code",
      "source": [
        "# replace all nan values with the median to ensure no skewed data\n",
        "df['cigsPerDay'] = df['cigsPerDay'].fillna('1.0')\n",
        "df['cigsPerDay'].unique()"
      ],
      "metadata": {
        "colab": {
          "base_uri": "https://localhost:8080/"
        },
        "id": "ibW38kPxuzuf",
        "outputId": "39ff27b4-055d-4735-ffc8-9b60885025ee"
      },
      "execution_count": 24,
      "outputs": [
        {
          "output_type": "execute_result",
          "data": {
            "text/plain": [
              "array([20.0, 0.0, 9.0, 5.0, 35.0, 30.0, 10.0, 40.0, 1.0, 15.0, 3.0, 45.0,\n",
              "       25.0, 43.0, 17.0, 23.0, 13.0, 18.0, 50.0, 4.0, 2.0, 6.0, '1.0',\n",
              "       60.0, 8.0, 12.0, 7.0, 14.0], dtype=object)"
            ]
          },
          "metadata": {},
          "execution_count": 24
        }
      ]
    },
    {
      "cell_type": "code",
      "source": [
        "# prevalentStroke variable does not need cleaning\n",
        "df['prevalentStroke'].value_counts()"
      ],
      "metadata": {
        "colab": {
          "base_uri": "https://localhost:8080/"
        },
        "id": "3EX5C-h3vKyQ",
        "outputId": "5e7dbf7e-d98c-4939-b465-202b8a5b9a1c"
      },
      "execution_count": 30,
      "outputs": [
        {
          "output_type": "execute_result",
          "data": {
            "text/plain": [
              "prevalentStroke\n",
              "0    1056\n",
              "1       4\n",
              "Name: count, dtype: int64"
            ]
          },
          "metadata": {},
          "execution_count": 30
        }
      ]
    },
    {
      "cell_type": "code",
      "source": [
        "# prevalentHyp variable does not need cleaning\n",
        "df['prevalentHyp'].value_counts()"
      ],
      "metadata": {
        "colab": {
          "base_uri": "https://localhost:8080/"
        },
        "id": "QaYyE9NwvwG9",
        "outputId": "7598fc05-0625-49e1-eb34-113d97decd07"
      },
      "execution_count": 33,
      "outputs": [
        {
          "output_type": "execute_result",
          "data": {
            "text/plain": [
              "prevalentHyp\n",
              "0    764\n",
              "1    296\n",
              "Name: count, dtype: int64"
            ]
          },
          "metadata": {},
          "execution_count": 33
        }
      ]
    },
    {
      "cell_type": "code",
      "source": [
        "# diabetes variable does not need cleaning\n",
        "df['diabetes'].value_counts()"
      ],
      "metadata": {
        "colab": {
          "base_uri": "https://localhost:8080/"
        },
        "id": "5iE2d7NLv7Rj",
        "outputId": "423cd13d-e506-4a91-9991-97f3c60fa7f8"
      },
      "execution_count": 37,
      "outputs": [
        {
          "output_type": "execute_result",
          "data": {
            "text/plain": [
              "diabetes\n",
              "0    1034\n",
              "1      26\n",
              "Name: count, dtype: int64"
            ]
          },
          "metadata": {},
          "execution_count": 37
        }
      ]
    },
    {
      "cell_type": "code",
      "source": [
        "df['BMI'].unique()"
      ],
      "metadata": {
        "colab": {
          "base_uri": "https://localhost:8080/"
        },
        "id": "_KpAZLUiwZZt",
        "outputId": "41c1bcae-d848-40d8-b878-6d53e132282c"
      },
      "execution_count": 39,
      "outputs": [
        {
          "output_type": "execute_result",
          "data": {
            "text/plain": [
              "array([30.08, 26.68, 30.57, 27.24, 23.55, 25.82, 27.8 , 21.98, 29.8 ,\n",
              "       25.77, 27.3 , 22.32, 33.32, 27.66, 28.57, 24.19, 39.6 , 29.84,\n",
              "       23.45, 29.08, 20.89, 22.83, 25.09, 28.3 , 23.26, 25.54, 27.56,\n",
              "       25.5 , 26.48, 25.94, 24.68, 27.22, 26.83, 36.12, 21.02, 32.84,\n",
              "       23.87, 27.93, 20.68, 22.18, 21.67, 19.72, 24.22, 22.14, 30.74,\n",
              "       25.65, 23.33, 21.3 , 27.89, 29.5 , 29.38, 20.52, 28.27, 22.35,\n",
              "       25.75, 28.04, 22.19, 26.07, 26.89, 24.42, 26.84, 20.85, 23.64,\n",
              "       24.32, 21.35, 20.39, 20.72, 24.35, 30.34, 35.35, 29.48, 26.91,\n",
              "       26.87, 28.44, 20.02, 28.33, 21.5 , 21.19, 26.59, 25.67, 23.19,\n",
              "       21.14, 25.48, 28.55, 25.71, 23.09, 21.45, 24.24, 30.16, 23.22,\n",
              "       20.51, 32.52, 21.11, 26.13, 24.47, 28.4 , 24.71, 32.35, 28.67,\n",
              "       24.72, 29.19, 29.07, 25.84, 24.49, 20.12, 26.18, 22.85, 36.21,\n",
              "       27.1 , 24.69, 25.11, 29.43, 21.34, 34.84, 30.43, 25.04, 22.34,\n",
              "       21.93, 29.42, 17.5 , 23.67, 24.1 , 23.27, 27.45, 24.77, 24.94,\n",
              "       25.18, 29.35, 25.25, 28.28, 24.23, 18.76, 21.18, 27.17, 28.9 ,\n",
              "       23.72, 24.3 , 31.64, 22.49, 21.99, 27.38,   nan, 25.33, 22.02,\n",
              "       24.73, 30.93, 21.27, 31.52, 22.01, 25.38, 23.8 , 27.92, 18.82,\n",
              "       28.7 , 24.91, 29.29, 28.09, 24.33, 19.78, 24.8 , 24.62, 15.96,\n",
              "       23.06, 25.46, 20.93, 23.71, 26.86, 31.62, 32.4 , 32.27, 23.98,\n",
              "       23.2 , 22.67, 33.99, 26.32, 22.16, 18.46, 35.68, 27.86, 23.13,\n",
              "       28.56, 19.23, 26.36, 30.06, 26.92, 28.47, 20.7 , 26.06, 22.69,\n",
              "       23.57, 26.25, 24.64, 25.56, 25.21, 25.89, 29.98, 25.62, 26.97,\n",
              "       22.98, 25.51, 27.99, 26.53, 28.18, 24.79, 28.78, 26.09, 23.07,\n",
              "       23.29, 23.24, 20.62, 20.34, 20.87, 27.28, 20.32, 22.64, 25.45,\n",
              "       24.25, 32.66, 29.86, 28.85, 27.61, 28.21, 22.89, 28.35, 20.09,\n",
              "       22.17, 28.89, 28.61, 24.83, 20.17, 26.17, 30.36, 24.98, 23.97,\n",
              "       27.51, 25.2 , 30.91, 26.45, 31.82, 26.64, 24.01, 28.88, 30.28,\n",
              "       29.82, 22.54, 29.14, 24.56, 19.56, 23.1 , 34.55, 24.87, 34.4 ,\n",
              "       26.26, 19.63, 21.63, 26.05, 21.51, 24.08, 21.88, 20.26, 22.88,\n",
              "       21.84, 20.49, 21.01, 25.05, 22.24, 30.32, 28.02, 32.36, 23.4 ,\n",
              "       27.42, 29.77, 28.12, 23.82, 18.59, 23.65, 26.67, 31.6 , 28.38,\n",
              "       23.56, 25.57, 20.33, 28.53, 28.25, 20.79, 31.14, 21.94, 18.26,\n",
              "       28.23, 27.63, 29.04, 28.24, 27.05, 21.71, 27.27, 32.22, 24.51,\n",
              "       36.79, 35.16, 26.28, 36.52, 24.07, 20.19, 25.23, 21.33, 30.46,\n",
              "       21.31, 22.73, 27.64, 23.54, 24.36, 29.25, 23.86, 31.5 , 34.56,\n",
              "       23.75, 37.62, 23.02, 30.14, 26.42, 21.2 , 26.24, 28.36, 26.56,\n",
              "       23.95, 23.68, 28.58, 27.87, 25.12, 30.79, 22.5 , 28.95, 27.33,\n",
              "       25.26, 26.11, 22.7 , 24.67, 30.12, 21.48, 22.9 , 25.91, 23.31,\n",
              "       20.82, 29.97, 23.58, 25.63, 38.94, 23.03, 20.27, 23.01, 35.99,\n",
              "       27.78, 22.92, 23.88, 21.07, 27.14, 30.53, 28.68, 18.38, 26.33,\n",
              "       24.39, 29.47, 32.26, 25.14, 16.73, 18.87, 23.48, 27.12, 25.1 ,\n",
              "       25.98, 24.57, 18.99, 33.02, 19.83, 29.63, 27.23, 23.18, 29.94,\n",
              "       30.38, 26.76, 27.08, 23.77, 29.76, 21.83, 27.49, 24.59, 20.92,\n",
              "       23.69, 29.01, 27.02, 24.89, 24.96, 24.81, 19.32, 26.39, 26.37,\n",
              "       25.01, 27.26, 23.63, 22.81, 25.83, 27.68, 27.57, 23.79, 21.6 ,\n",
              "       23.37, 19.76, 24.15, 26.71, 25.74, 27.96, 27.69, 20.57, 17.71,\n",
              "       26.3 , 21.85, 20.59, 16.59, 31.98, 31.23, 30.18, 34.32, 23.52,\n",
              "       29.67, 22.38, 27.73, 20.56, 27.91, 28.63, 26.03, 23.9 , 20.77,\n",
              "       25.96, 30.61, 33.9 , 19.54, 20.15, 20.42, 23.14, 30.29, 23.05,\n",
              "       23.51, 25.86, 24.84, 35.13, 18.18, 25.08, 25.88, 23.66, 22.91,\n",
              "       24.44, 22.74, 22.26, 25.16, 27.82, 24.17, 22.05, 21.8 , 21.72,\n",
              "       23.41, 24.58, 22.78, 22.71, 30.24, 25.85, 22.46, 26.98, 28.87,\n",
              "       43.3 , 28.08, 22.25, 30.78, 22.  , 24.88, 29.02, 33.17, 30.75,\n",
              "       22.53, 23.81, 24.02, 21.68, 26.69, 24.85, 31.16, 24.03, 19.16,\n",
              "       35.11, 26.55, 26.81, 24.5 , 36.91, 26.49, 30.27, 30.55, 25.29,\n",
              "       29.87, 23.34, 25.07, 26.73, 27.88, 35.02, 21.66, 28.76, 32.67,\n",
              "       29.89, 19.39, 24.14, 37.02, 28.  , 20.86, 19.98, 30.58, 27.43,\n",
              "       24.99, 19.26, 22.57, 29.41, 26.  , 19.05, 41.29, 22.27, 21.12,\n",
              "       25.42, 34.69, 20.74, 23.16, 27.13, 26.35, 34.46, 18.83, 33.65,\n",
              "       37.41, 27.09, 23.76, 26.04, 31.07, 29.15, 23.25, 23.84, 21.79,\n",
              "       32.23, 27.47, 25.36, 22.52, 21.86, 30.8 , 29.59, 31.39, 21.41,\n",
              "       23.35, 16.61, 28.81, 26.77, 24.  , 26.58, 21.96, 27.06, 25.37,\n",
              "       22.99, 26.85, 22.66, 18.7 , 25.22, 20.31, 23.43, 23.85, 25.4 ,\n",
              "       21.47, 33.6 , 26.8 , 29.88, 24.2 , 17.51, 35.2 , 35.19, 25.99,\n",
              "       19.68, 45.79, 25.69, 23.08, 28.5 , 27.71, 18.75, 34.36, 24.06,\n",
              "       26.72, 24.6 , 21.32, 33.29, 24.86, 18.06, 18.68, 21.26, 39.94,\n",
              "       21.82, 22.04, 26.82, 19.57, 24.76, 24.12, 22.48, 24.92, 27.25,\n",
              "       22.97, 27.2 , 19.64, 31.12, 26.51, 23.39, 38.61, 26.27, 29.62,\n",
              "       22.36, 21.52, 24.9 , 27.11, 23.78, 27.94, 31.9 , 23.3 , 25.15,\n",
              "       19.71, 22.15, 28.26, 22.72, 32.53, 28.92, 19.11, 24.38, 28.07,\n",
              "       26.74, 34.89, 27.48, 23.42, 32.33, 22.33, 22.11, 26.22, 26.79,\n",
              "       28.06, 17.11, 33.88, 32.63, 29.17, 22.79, 31.63, 27.6 , 27.4 ,\n",
              "       31.34, 28.82, 19.94, 19.34, 20.23, 18.43, 20.2 , 23.59, 28.86,\n",
              "       20.64, 31.65, 17.64, 26.4 , 33.03, 26.41, 30.85, 28.43, 25.41,\n",
              "       42.15])"
            ]
          },
          "metadata": {},
          "execution_count": 39
        }
      ]
    },
    {
      "cell_type": "code",
      "source": [
        "nan_bmi = df['BMI'].isna().sum()\n",
        "print(nan_bmi)"
      ],
      "metadata": {
        "colab": {
          "base_uri": "https://localhost:8080/"
        },
        "id": "vBnB6aB4wssq",
        "outputId": "303298f6-c261-43c3-9b24-26e4b659734b"
      },
      "execution_count": 40,
      "outputs": [
        {
          "output_type": "stream",
          "name": "stdout",
          "text": [
            "4\n"
          ]
        }
      ]
    },
    {
      "cell_type": "code",
      "source": [
        "median_bmi = df['BMI'].median()\n",
        "print(median_bmi)"
      ],
      "metadata": {
        "colab": {
          "base_uri": "https://localhost:8080/"
        },
        "id": "TaJ0lt7Sw2Ul",
        "outputId": "8d5aa553-b594-4dc0-f7d5-9e7227ff3bb2"
      },
      "execution_count": 41,
      "outputs": [
        {
          "output_type": "stream",
          "name": "stdout",
          "text": [
            "25.14\n"
          ]
        }
      ]
    },
    {
      "cell_type": "code",
      "source": [
        "df['BMI'] = df['BMI'].fillna('25.14')\n",
        "df['BMI'].unique()"
      ],
      "metadata": {
        "colab": {
          "base_uri": "https://localhost:8080/"
        },
        "id": "VftsUGutw_pN",
        "outputId": "3a2b0061-af59-49ba-db3c-5e905eb0ae73"
      },
      "execution_count": 42,
      "outputs": [
        {
          "output_type": "execute_result",
          "data": {
            "text/plain": [
              "array([30.08, 26.68, 30.57, 27.24, 23.55, 25.82, 27.8, 21.98, 29.8, 25.77,\n",
              "       27.3, 22.32, 33.32, 27.66, 28.57, 24.19, 39.6, 29.84, 23.45, 29.08,\n",
              "       20.89, 22.83, 25.09, 28.3, 23.26, 25.54, 27.56, 25.5, 26.48, 25.94,\n",
              "       24.68, 27.22, 26.83, 36.12, 21.02, 32.84, 23.87, 27.93, 20.68,\n",
              "       22.18, 21.67, 19.72, 24.22, 22.14, 30.74, 25.65, 23.33, 21.3,\n",
              "       27.89, 29.5, 29.38, 20.52, 28.27, 22.35, 25.75, 28.04, 22.19,\n",
              "       26.07, 26.89, 24.42, 26.84, 20.85, 23.64, 24.32, 21.35, 20.39,\n",
              "       20.72, 24.35, 30.34, 35.35, 29.48, 26.91, 26.87, 28.44, 20.02,\n",
              "       28.33, 21.5, 21.19, 26.59, 25.67, 23.19, 21.14, 25.48, 28.55,\n",
              "       25.71, 23.09, 21.45, 24.24, 30.16, 23.22, 20.51, 32.52, 21.11,\n",
              "       26.13, 24.47, 28.4, 24.71, 32.35, 28.67, 24.72, 29.19, 29.07,\n",
              "       25.84, 24.49, 20.12, 26.18, 22.85, 36.21, 27.1, 24.69, 25.11,\n",
              "       29.43, 21.34, 34.84, 30.43, 25.04, 22.34, 21.93, 29.42, 17.5,\n",
              "       23.67, 24.1, 23.27, 27.45, 24.77, 24.94, 25.18, 29.35, 25.25,\n",
              "       28.28, 24.23, 18.76, 21.18, 27.17, 28.9, 23.72, 24.3, 31.64, 22.49,\n",
              "       21.99, 27.38, '25.14', 25.33, 22.02, 24.73, 30.93, 21.27, 31.52,\n",
              "       22.01, 25.38, 23.8, 27.92, 18.82, 28.7, 24.91, 29.29, 28.09, 24.33,\n",
              "       19.78, 24.8, 24.62, 15.96, 23.06, 25.46, 20.93, 23.71, 26.86,\n",
              "       31.62, 32.4, 32.27, 23.98, 23.2, 22.67, 33.99, 26.32, 22.16, 18.46,\n",
              "       35.68, 27.86, 23.13, 28.56, 19.23, 26.36, 30.06, 26.92, 28.47,\n",
              "       20.7, 26.06, 22.69, 23.57, 26.25, 24.64, 25.56, 25.21, 25.89,\n",
              "       29.98, 25.62, 26.97, 22.98, 25.51, 27.99, 26.53, 28.18, 24.79,\n",
              "       28.78, 26.09, 23.07, 23.29, 23.24, 20.62, 20.34, 20.87, 27.28,\n",
              "       20.32, 22.64, 25.45, 24.25, 32.66, 29.86, 28.85, 27.61, 28.21,\n",
              "       22.89, 28.35, 20.09, 22.17, 28.89, 28.61, 24.83, 20.17, 26.17,\n",
              "       30.36, 24.98, 23.97, 27.51, 25.2, 30.91, 26.45, 31.82, 26.64,\n",
              "       24.01, 28.88, 30.28, 29.82, 22.54, 29.14, 24.56, 19.56, 23.1,\n",
              "       34.55, 24.87, 34.4, 26.26, 19.63, 21.63, 26.05, 21.51, 24.08,\n",
              "       21.88, 20.26, 22.88, 21.84, 20.49, 21.01, 25.05, 22.24, 30.32,\n",
              "       28.02, 32.36, 23.4, 27.42, 29.77, 28.12, 23.82, 18.59, 23.65,\n",
              "       26.67, 31.6, 28.38, 23.56, 25.57, 20.33, 28.53, 28.25, 20.79,\n",
              "       31.14, 21.94, 18.26, 28.23, 27.63, 29.04, 28.24, 27.05, 21.71,\n",
              "       27.27, 32.22, 24.51, 36.79, 35.16, 26.28, 36.52, 24.07, 20.19,\n",
              "       25.23, 21.33, 30.46, 21.31, 22.73, 27.64, 23.54, 24.36, 29.25,\n",
              "       23.86, 31.5, 34.56, 23.75, 37.62, 23.02, 30.14, 26.42, 21.2, 26.24,\n",
              "       28.36, 26.56, 23.95, 23.68, 28.58, 27.87, 25.12, 30.79, 22.5,\n",
              "       28.95, 27.33, 25.26, 26.11, 22.7, 24.67, 30.12, 21.48, 22.9, 25.91,\n",
              "       23.31, 20.82, 29.97, 23.58, 25.63, 38.94, 23.03, 20.27, 23.01,\n",
              "       35.99, 27.78, 22.92, 23.88, 21.07, 27.14, 30.53, 28.68, 18.38,\n",
              "       26.33, 24.39, 29.47, 32.26, 25.14, 16.73, 18.87, 23.48, 27.12,\n",
              "       25.1, 25.98, 24.57, 18.99, 33.02, 19.83, 29.63, 27.23, 23.18,\n",
              "       29.94, 30.38, 26.76, 27.08, 23.77, 29.76, 21.83, 27.49, 24.59,\n",
              "       20.92, 23.69, 29.01, 27.02, 24.89, 24.96, 24.81, 19.32, 26.39,\n",
              "       26.37, 25.01, 27.26, 23.63, 22.81, 25.83, 27.68, 27.57, 23.79,\n",
              "       21.6, 23.37, 19.76, 24.15, 26.71, 25.74, 27.96, 27.69, 20.57,\n",
              "       17.71, 26.3, 21.85, 20.59, 16.59, 31.98, 31.23, 30.18, 34.32,\n",
              "       23.52, 29.67, 22.38, 27.73, 20.56, 27.91, 28.63, 26.03, 23.9,\n",
              "       20.77, 25.96, 30.61, 33.9, 19.54, 20.15, 20.42, 23.14, 30.29,\n",
              "       23.05, 23.51, 25.86, 24.84, 35.13, 18.18, 25.08, 25.88, 23.66,\n",
              "       22.91, 24.44, 22.74, 22.26, 25.16, 27.82, 24.17, 22.05, 21.8,\n",
              "       21.72, 23.41, 24.58, 22.78, 22.71, 30.24, 25.85, 22.46, 26.98,\n",
              "       28.87, 43.3, 28.08, 22.25, 30.78, 22.0, 24.88, 29.02, 33.17, 30.75,\n",
              "       22.53, 23.81, 24.02, 21.68, 26.69, 24.85, 31.16, 24.03, 19.16,\n",
              "       35.11, 26.55, 26.81, 24.5, 36.91, 26.49, 30.27, 30.55, 25.29,\n",
              "       29.87, 23.34, 25.07, 26.73, 27.88, 35.02, 21.66, 28.76, 32.67,\n",
              "       29.89, 19.39, 24.14, 37.02, 28.0, 20.86, 19.98, 30.58, 27.43,\n",
              "       24.99, 19.26, 22.57, 29.41, 26.0, 19.05, 41.29, 22.27, 21.12,\n",
              "       25.42, 34.69, 20.74, 23.16, 27.13, 26.35, 34.46, 18.83, 33.65,\n",
              "       37.41, 27.09, 23.76, 26.04, 31.07, 29.15, 23.25, 23.84, 21.79,\n",
              "       32.23, 27.47, 25.36, 22.52, 21.86, 30.8, 29.59, 31.39, 21.41,\n",
              "       23.35, 16.61, 28.81, 26.77, 24.0, 26.58, 21.96, 27.06, 25.37,\n",
              "       22.99, 26.85, 22.66, 18.7, 25.22, 20.31, 23.43, 23.85, 25.4, 21.47,\n",
              "       33.6, 26.8, 29.88, 24.2, 17.51, 35.2, 35.19, 25.99, 19.68, 45.79,\n",
              "       25.69, 23.08, 28.5, 27.71, 18.75, 34.36, 24.06, 26.72, 24.6, 21.32,\n",
              "       33.29, 24.86, 18.06, 18.68, 21.26, 39.94, 21.82, 22.04, 26.82,\n",
              "       19.57, 24.76, 24.12, 22.48, 24.92, 27.25, 22.97, 27.2, 19.64,\n",
              "       31.12, 26.51, 23.39, 38.61, 26.27, 29.62, 22.36, 21.52, 24.9,\n",
              "       27.11, 23.78, 27.94, 31.9, 23.3, 25.15, 19.71, 22.15, 28.26, 22.72,\n",
              "       32.53, 28.92, 19.11, 24.38, 28.07, 26.74, 34.89, 27.48, 23.42,\n",
              "       32.33, 22.33, 22.11, 26.22, 26.79, 28.06, 17.11, 33.88, 32.63,\n",
              "       29.17, 22.79, 31.63, 27.6, 27.4, 31.34, 28.82, 19.94, 19.34, 20.23,\n",
              "       18.43, 20.2, 23.59, 28.86, 20.64, 31.65, 17.64, 26.4, 33.03, 26.41,\n",
              "       30.85, 28.43, 25.41, 42.15], dtype=object)"
            ]
          },
          "metadata": {},
          "execution_count": 42
        }
      ]
    },
    {
      "cell_type": "code",
      "source": [
        "df['glucose'].unique()"
      ],
      "metadata": {
        "colab": {
          "base_uri": "https://localhost:8080/"
        },
        "id": "jwv3KI9fxKpp",
        "outputId": "d4d8fe93-4d01-4da1-f383-e726b2c3953d"
      },
      "execution_count": 45,
      "outputs": [
        {
          "output_type": "execute_result",
          "data": {
            "text/plain": [
              "array([ nan,  74.,  78.,  83.,  73.,  82.,  70.,  87., 205.,  64.,  69.,\n",
              "        80.,  79.,  62.,  90.,  85.,  58., 119.,  67., 163.,  66.,  77.,\n",
              "        72., 143.,  71.,  99.,  75.,  91.,  89.,  63., 113., 122., 114.,\n",
              "       100., 112.,  92., 102., 104.,  61., 108.,  81., 177.,  76.,  88.,\n",
              "        60.,  68., 386.,  93., 117.,  95.,  59., 124., 107.,  65., 103.,\n",
              "       137.,  86.,  84.,  45.,  98.,  57., 132., 140.,  94., 110.,  97.,\n",
              "        55., 115., 325., 368.,  96.,  52.,  44., 170., 120., 123., 101.,\n",
              "       394.,  53., 130., 223.,  56., 126., 105., 156., 136., 183., 173.,\n",
              "       155., 106., 145.])"
            ]
          },
          "metadata": {},
          "execution_count": 45
        }
      ]
    },
    {
      "cell_type": "code",
      "source": [
        "nan_glucose = df['glucose'].isna().sum()\n",
        "print(nan_glucose)"
      ],
      "metadata": {
        "colab": {
          "base_uri": "https://localhost:8080/"
        },
        "id": "ff6x_J7exS6l",
        "outputId": "2bfac42c-86b9-44a4-c7b7-cfe865833ae1"
      },
      "execution_count": 47,
      "outputs": [
        {
          "output_type": "stream",
          "name": "stdout",
          "text": [
            "103\n"
          ]
        }
      ]
    },
    {
      "cell_type": "code",
      "source": [
        "median_glucose = df['glucose'].median()\n",
        "print(median_glucose)"
      ],
      "metadata": {
        "colab": {
          "base_uri": "https://localhost:8080/"
        },
        "id": "yOCARpioyjYf",
        "outputId": "2c50f2c1-a6e9-4c48-8ca3-f37e8db44163"
      },
      "execution_count": 48,
      "outputs": [
        {
          "output_type": "stream",
          "name": "stdout",
          "text": [
            "78.0\n"
          ]
        }
      ]
    },
    {
      "cell_type": "code",
      "source": [
        "df['glucose'] = df['glucose'].fillna('78.0')\n",
        "df['glucose'].unique()"
      ],
      "metadata": {
        "colab": {
          "base_uri": "https://localhost:8080/"
        },
        "id": "fxj8Zag9yAJh",
        "outputId": "9970fa3d-f3ff-4bae-a009-d060db859c1f"
      },
      "execution_count": 49,
      "outputs": [
        {
          "output_type": "execute_result",
          "data": {
            "text/plain": [
              "array(['78.0', 74.0, 78.0, 83.0, 73.0, 82.0, 70.0, 87.0, 205.0, 64.0,\n",
              "       69.0, 80.0, 79.0, 62.0, 90.0, 85.0, 58.0, 119.0, 67.0, 163.0, 66.0,\n",
              "       77.0, 72.0, 143.0, 71.0, 99.0, 75.0, 91.0, 89.0, 63.0, 113.0,\n",
              "       122.0, 114.0, 100.0, 112.0, 92.0, 102.0, 104.0, 61.0, 108.0, 81.0,\n",
              "       177.0, 76.0, 88.0, 60.0, 68.0, 386.0, 93.0, 117.0, 95.0, 59.0,\n",
              "       124.0, 107.0, 65.0, 103.0, 137.0, 86.0, 84.0, 45.0, 98.0, 57.0,\n",
              "       132.0, 140.0, 94.0, 110.0, 97.0, 55.0, 115.0, 325.0, 368.0, 96.0,\n",
              "       52.0, 44.0, 170.0, 120.0, 123.0, 101.0, 394.0, 53.0, 130.0, 223.0,\n",
              "       56.0, 126.0, 105.0, 156.0, 136.0, 183.0, 173.0, 155.0, 106.0,\n",
              "       145.0], dtype=object)"
            ]
          },
          "metadata": {},
          "execution_count": 49
        }
      ]
    },
    {
      "cell_type": "code",
      "source": [
        "# TenYearCHD variable does not need cleaning\n",
        "df['TenYearCHD'].value_counts()"
      ],
      "metadata": {
        "colab": {
          "base_uri": "https://localhost:8080/"
        },
        "id": "3miGpZQKyuF_",
        "outputId": "c9a54601-536b-49b7-c8c5-3a0c80559e84"
      },
      "execution_count": 52,
      "outputs": [
        {
          "output_type": "execute_result",
          "data": {
            "text/plain": [
              "TenYearCHD\n",
              "0    903\n",
              "1    157\n",
              "Name: count, dtype: int64"
            ]
          },
          "metadata": {},
          "execution_count": 52
        }
      ]
    }
  ]
}