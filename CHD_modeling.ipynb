{
  "nbformat": 4,
  "nbformat_minor": 0,
  "metadata": {
    "colab": {
      "provenance": [],
      "include_colab_link": true
    },
    "kernelspec": {
      "name": "python3",
      "display_name": "Python 3"
    },
    "language_info": {
      "name": "python"
    }
  },
  "cells": [
    {
      "cell_type": "markdown",
      "metadata": {
        "id": "view-in-github",
        "colab_type": "text"
      },
      "source": [
        "<a href=\"https://colab.research.google.com/github/angelahjhong/project-2/blob/main/CHD_modeling.ipynb\" target=\"_parent\"><img src=\"https://colab.research.google.com/assets/colab-badge.svg\" alt=\"Open In Colab\"/></a>"
      ]
    },
    {
      "cell_type": "code",
      "source": [
        "! git clone https://github.com/angelahjhong/project-2"
      ],
      "metadata": {
        "colab": {
          "base_uri": "https://localhost:8080/"
        },
        "id": "xrlSbyrftcWI",
        "outputId": "3569d86e-9a1a-4699-c2e1-6ee5188760f8"
      },
      "execution_count": 41,
      "outputs": [
        {
          "output_type": "stream",
          "name": "stdout",
          "text": [
            "fatal: destination path 'project-2' already exists and is not an empty directory.\n"
          ]
        }
      ]
    },
    {
      "cell_type": "code",
      "source": [
        "import pandas as pd\n",
        "import seaborn as sns\n",
        "import matplotlib.pyplot as plt\n",
        "\n",
        "train_data = pd.read_csv(\"/content/project-2/cleaned_train_binary.csv\")\n",
        "# created a correlation matrix to graph our heatmap to find a significant\n",
        "# correlation between our datasets\n",
        "corr_matrix = train_data.corr()\n",
        "plt.figure(figsize=(12, 8))\n",
        "sns.heatmap(corr_matrix, annot=True, cmap='coolwarm', fmt=\".2f\", linewidths=0.5)\n",
        "plt.title('Correlation Heatmap of Variables')\n",
        "plt.show()\n"
      ],
      "metadata": {
        "id": "tBF1K9QVNaMW"
      },
      "execution_count": 42,
      "outputs": []
    },
    {
      "cell_type": "code",
      "source": [
        "import pandas as pd\n",
        "from sklearn.model_selection import train_test_split\n",
        "from sklearn.linear_model import LinearRegression\n",
        "from sklearn.tree import DecisionTreeRegressor\n",
        "from sklearn.neighbors import KNeighborsRegressor\n",
        "from sklearn.metrics import r2_score, mean_squared_error\n",
        "import numpy as np\n",
        "\n",
        "train_data = pd.read_csv(\"/content/project-2/cleaned_train_binary.csv\")\n",
        "test_data = pd.read_csv(\"/content/project-2/cleaned_test_binary.csv\")\n",
        "\n",
        "vars = ['sex', 'age', 'currentSmoker', 'cigsPerDay', 'prevalentStroke',\n",
        "                 'prevalentHyp', 'diabetes', 'BMI', 'glucose', 'TenYearCHD']\n",
        "\n",
        "train_data = train_data[vars]\n",
        "test_data = test_data[vars]\n",
        "\n",
        "# pulling our variables\n",
        "train_data = pd.get_dummies(train_data, columns=['sex', 'currentSmoker',\n",
        "                                                 'prevalentStroke', 'prevalentHyp', 'diabetes'])\n",
        "test_data = pd.get_dummies(test_data, columns=['sex', 'currentSmoker',\n",
        "                                               'prevalentStroke', 'prevalentHyp', 'diabetes'])\n",
        "\n",
        "# in this code we are dropping the TenYearCHD variable because this is what we are running our predictions against\n",
        "X_train = train_data.drop(columns=['TenYearCHD'])\n",
        "y_train = train_data['TenYearCHD']\n",
        "X_test = test_data.drop(columns=['TenYearCHD'])\n",
        "y_test = test_data['TenYearCHD']\n",
        "\n",
        "# initializing our models\n",
        "linear_model = LinearRegression()\n",
        "decision_tree_model = DecisionTreeRegressor(max_depth=2)  # Create a regression object\n",
        "knn_model = KNeighborsRegressor()\n",
        "\n",
        "# training models calling the tree funcs\n",
        "linear_model.fit(X_train, y_train)\n",
        "decision_tree_model.fit(X_train, y_train)  # Fit the regression\n",
        "knn_model.fit(X_train, y_train)\n",
        "\n",
        "# running our predictions based on our pull variable array\n",
        "linear_pred = linear_model.predict(X_test)\n",
        "decision_tree_pred = decision_tree_model.predict(X_test)\n",
        "knn_pred = knn_model.predict(X_test)\n",
        "\n",
        "# calculating our R^2 scores using a built in function\n",
        "linear_rsq = r2_score(y_test, linear_pred)\n",
        "decision_tree_rsq = r2_score(y_test, decision_tree_pred)\n",
        "knn_rsq = r2_score(y_test, knn_pred)\n",
        "\n",
        "# calculating the RMSE using a built in function\n",
        "linear_rmse = mean_squared_error(y_test, linear_pred, squared=False )\n",
        "decision_tree_rmse = mean_squared_error(y_test, decision_tree_pred, squared=False)\n",
        "knn_rmse = mean_squared_error(y_test, knn_pred, squared=False)\n",
        "\n",
        "print(\"Linear Regression rsq:\", linear_rsq)\n",
        "print(\"Decision Tree Regression rsq:\", decision_tree_rsq)\n",
        "print(\"K-Nearest Neighbors Regression rsq:\", knn_rsq)\n",
        "\n",
        "print(\"\\nLinear Regression rmse:\", linear_rmse)\n",
        "print(\"Decision Tree Regression rmse:\", decision_tree_rmse)\n",
        "print(\"K-Nearest Neighbors Regression rmse:\", knn_rmse)"
      ],
      "metadata": {
        "colab": {
          "base_uri": "https://localhost:8080/"
        },
        "id": "JUb4UfPZIiyb",
        "outputId": "61f611e1-63e9-4a6e-957a-df5db9dedc64"
      },
      "execution_count": 43,
      "outputs": [
        {
          "output_type": "stream",
          "name": "stdout",
          "text": [
            "Linear Regression rsq: 0.08944393608080903\n",
            "Decision Tree Regression rsq: 0.03571913268397675\n",
            "K-Nearest Neighbors Regression rsq: -0.07517052147477288\n",
            "\n",
            "Linear Regression rmse: 0.3389543263724163\n",
            "Decision Tree Regression rmse: 0.34881054922784993\n",
            "K-Nearest Neighbors Regression rmse: 0.3683210248662036\n"
          ]
        }
      ]
    },
    {
      "cell_type": "code",
      "source": [
        "# violin plot graph for age and sex vs CHD\n",
        "df = pd.read_csv(\"/content/project-2/cleaned_train.csv\")\n",
        "\n",
        "plt.figure(figsize=(10, 6))\n",
        "sns.violinplot(x='TenYearCHD', y='age', hue='sex', data=df, split=True, palette='viridis')\n",
        "plt.title('Violin Plot of Age and Sex vs CHD')\n",
        "plt.xlabel('TenYearCHD')\n",
        "plt.ylabel('Age')\n",
        "plt.legend(title='Sex', loc='upper right')\n",
        "plt.show()"
      ],
      "metadata": {
        "id": "1r1qNq80DPPJ"
      },
      "execution_count": 50,
      "outputs": []
    },
    {
      "cell_type": "code",
      "source": [
        "# desity plot for CHD and age\n",
        "plt.figure(figsize=(10, 6))\n",
        "sns.kdeplot(data=df, x='age', hue='TenYearCHD', fill=True, common_norm=False, palette='Set1')\n",
        "plt.title('Density Plot of Age vs CHD')\n",
        "plt.xlabel('Age')\n",
        "plt.ylabel('Density')\n",
        "plt.legend(title='TenYearCHD', labels=['No CHD', 'CHD'], loc='upper right')\n",
        "plt.show()"
      ],
      "metadata": {
        "id": "DAK9Z8TTEJK8"
      },
      "execution_count": 45,
      "outputs": []
    },
    {
      "cell_type": "code",
      "source": [
        "# bar graph for cigsperday vs CHD\n",
        "plt.figure(figsize=(10, 6))\n",
        "sns.barplot(data=df, x='cigsPerDay', y='TenYearCHD', color='b')\n",
        "plt.title('CHD Cases vs. Cigarettes Per Day')\n",
        "plt.xlabel('Cigarettes Per Day')\n",
        "plt.ylabel('CHD Cases')\n",
        "plt.xticks(rotation=45)  # Rotate x-axis labels by 45 degrees\n",
        "plt.grid(axis='y')\n",
        "plt.show()"
      ],
      "metadata": {
        "id": "hQZZHOokFnhd"
      },
      "execution_count": 49,
      "outputs": []
    },
    {
      "cell_type": "code",
      "source": [
        "# scatterplot graph for BMI vs glucose vs CHD"
      ],
      "metadata": {
        "id": "oOU5xvyTFn0u"
      },
      "execution_count": 47,
      "outputs": []
    },
    {
      "cell_type": "code",
      "source": [
        "# tbd"
      ],
      "metadata": {
        "id": "pnQAbpurF0pC"
      },
      "execution_count": 48,
      "outputs": []
    }
  ]
}